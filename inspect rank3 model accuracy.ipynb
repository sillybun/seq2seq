{
 "cells": [
  {
   "cell_type": "code",
   "execution_count": 1,
   "id": "38fc73c5",
   "metadata": {},
   "outputs": [
    {
     "name": "stdout",
     "output_type": "stream",
     "text": [
      "Using GPU device 0...\n"
     ]
    }
   ],
   "source": [
    "from trainer import Trainer\n",
    "from zytlib import vector, path\n",
    "from zytlib import Logger\n",
    "from zytlib.table import table\n",
    "from zytlib.visual.animation import TimeStamp, ScatterAnimation\n",
    "from tqdm import tqdm\n",
    "import argparse\n",
    "import torch\n",
    "from torchfunction.device import todevice, get_device\n",
    "from matplotlib import pyplot as plt\n",
    "import seaborn as sns\n",
    "import functools\n",
    "import numpy as np\n",
    "from matplotlib.animation import FuncAnimation\n",
    "from matplotlib import animation\n",
    "from utils import SOR\n",
    "from torchfunction.inspect import get_shape\n",
    "from collections import OrderedDict\n",
    "import math\n",
    "%config InlineBackend.figure_format = 'svg'\n",
    "device = get_device(\"cuda\")"
   ]
  },
  {
   "cell_type": "code",
   "execution_count": 19,
   "id": "0d9d3dd2",
   "metadata": {},
   "outputs": [],
   "source": [
    "dataset_path = \"dataset/dataset_only_rank3_with_rank_10_delay_15_last_delay_50.db\""
   ]
  },
  {
   "cell_type": "code",
   "execution_count": 20,
   "id": "fe05ab96",
   "metadata": {},
   "outputs": [
    {
     "name": "stdout",
     "output_type": "stream",
     "text": [
      "datapath : dataset/dataset_only_rank3_with_rank_10_delay_15_last_delay_50.db\n",
      "delta_t : 20\n",
      "tau : 100\n",
      "embedding_size : 1024\n",
      "decoder_dim : 512\n",
      "noise_sigma : 0.05\n",
      "input_dim : 6\n",
      "batch_size : 32\n",
      "linear_decoder : True\n",
      "device : cuda\n",
      "embedding : tensor([[ 0.0186, -0.0156, -0.0099,  ...,  0.0778, -0.0111, -0.0148],\n",
      "        [ 0.0201, -0.0297,  0.0112,  ...,  0.0508, -0.0064,  0.0204],\n",
      "        [ 0.0015, -0.0141,  0.0211,  ..., -0.0270,  0.0047,  0.0352],\n",
      "        [-0.0186,  0.0156,  0.0099,  ..., -0.0778,  0.0111,  0.0148],\n",
      "        [-0.0201,  0.0297, -0.0112,  ..., -0.0508,  0.0064, -0.0204],\n",
      "        [-0.0015,  0.0141, -0.0211,  ...,  0.0270, -0.0047, -0.0352]],\n",
      "       device='cuda:0')\n",
      "learning_rate : 2e-05\n",
      "is_embedding_fixed : True\n",
      "l2_reg : 1e-05\n",
      "encoder_bias : False\n",
      "decoder_bias : False\n",
      "encoder_to_decoder_equal_space : False\n",
      "encoder_max_rank : 5\n",
      "decoder_max_rank : -1\n",
      "freeze_parameter : ['decoder']\n"
     ]
    }
   ],
   "source": [
    "model = Trainer.load(\"model/2021-1111-14.pt\", datapath=dataset_path)\n",
    "model.eval()"
   ]
  },
  {
   "cell_type": "code",
   "execution_count": 21,
   "id": "abdae5f8",
   "metadata": {},
   "outputs": [],
   "source": [
    "result = vector()\n",
    "\n",
    "hidden_state_all = vector()\n",
    "ground_truth_all = vector()\n",
    "\n",
    "with torch.no_grad():\n",
    "\n",
    "    for batch in model.test_dataloader:\n",
    "        input_encoder, length, ground_truth_tensor, ground_truth_length, last_delay_length = todevice(batch, device=model.hyper[\"device\"])\n",
    "        hidden_state, final_state = model.encoder(input_encoder, length)\n",
    "        hidden_state_all.append(hidden_state)\n",
    "        ground_truth_all.append(ground_truth_tensor)\n",
    "        decoded_seq, _ = model.decoder(final_state, torch.zeros_like(ground_truth_tensor).fill_(-1), ground_truth_length, teaching_forcing_ratio=0.0)\n",
    "        decoded_item = decoded_seq.argmax(-1)\n",
    "        for i in range(hidden_state.shape[0]):\n",
    "            result.append(vector(ground_truth_tensor[i, :], decoded_item[i, :], ground_truth_tensor[i, :]==decoded_item[i, :]).map(lambda x: x.cpu().numpy()))"
   ]
  },
  {
   "cell_type": "code",
   "execution_count": 22,
   "id": "1df39016",
   "metadata": {},
   "outputs": [
    {
     "data": {
      "text/plain": [
       "[1.0, 1.0, 0.9351851851851852]"
      ]
     },
     "execution_count": 22,
     "metadata": {},
     "output_type": "execute_result"
    }
   ],
   "source": [
    "result[:, 2].map(vector).mean(dim=0)"
   ]
  },
  {
   "cell_type": "code",
   "execution_count": null,
   "id": "1a655ab9",
   "metadata": {},
   "outputs": [],
   "source": []
  }
 ],
 "metadata": {
  "kernelspec": {
   "display_name": "Python 3",
   "language": "python",
   "name": "python3"
  },
  "language_info": {
   "codemirror_mode": {
    "name": "ipython",
    "version": 3
   },
   "file_extension": ".py",
   "mimetype": "text/x-python",
   "name": "python",
   "nbconvert_exporter": "python",
   "pygments_lexer": "ipython3",
   "version": "3.8.8"
  }
 },
 "nbformat": 4,
 "nbformat_minor": 5
}
