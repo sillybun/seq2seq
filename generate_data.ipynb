{
 "cells": [
  {
   "cell_type": "code",
   "execution_count": 5,
   "id": "0374eec4",
   "metadata": {},
   "outputs": [],
   "source": [
    "import torch\n",
    "import torch.nn as nn\n",
    "from zytlib import vector\n",
    "import math\n",
    "from zytlib.classfunc import save_args\n",
    "from torch.nn.utils.rnn import pad_sequence\n",
    "from zytlib.wrapper import second_argument\n",
    "from zytlib.table import table\n",
    "import math\n",
    "from torchfunction.utils import seed_torch\n",
    "import random"
   ]
  },
  {
   "cell_type": "code",
   "execution_count": 6,
   "id": "eb9ed268",
   "metadata": {},
   "outputs": [],
   "source": [
    "from dataset import Emulater, emulate, generate_in_train_label, dataset, SimulatedDataset"
   ]
  },
  {
   "cell_type": "code",
   "execution_count": 7,
   "id": "b0a65417",
   "metadata": {},
   "outputs": [],
   "source": [
    "delta_t = 20\n",
    "mean_delay = 300\n",
    "mean_rank = 200\n",
    "mean_last_delay = 1000\n",
    "num_items = 2\n",
    "random_seed = 1024\n",
    "\n",
    "info = table(delta_t=delta_t, mean_delay=mean_delay, mean_rank=mean_rank, mean_last_delay=mean_last_delay, num_items=num_items, random_seed=random_seed)"
   ]
  },
  {
   "cell_type": "markdown",
   "id": "bc36fe37",
   "metadata": {},
   "source": [
    "# generate training dataset"
   ]
  },
  {
   "cell_type": "code",
   "execution_count": 12,
   "id": "8c5740ce",
   "metadata": {},
   "outputs": [],
   "source": [
    "seed_torch(random_seed)\n",
    "rank3_items_list = vector.range(num_items) ** 3\n",
    "rank2_items_list = vector.range(num_items) ** 2\n",
    "rank1_items_list = vector.range(num_items) ** 1\n",
    "\n",
    "def map_delay(delay):\n",
    "    return delay[:-1].map(lambda x: int(x * (random.random() + 0.5))) + delay[-1:].map(lambda x: int(x * (random.random() * 0.5 + 1)))"
   ]
  },
  {
   "cell_type": "code",
   "execution_count": 13,
   "id": "3163974e",
   "metadata": {},
   "outputs": [
    {
     "data": {
      "text/plain": [
       "[129, 98, 119]"
      ]
     },
     "execution_count": 13,
     "metadata": {},
     "output_type": "execute_result"
    }
   ],
   "source": [
    "map_delay(vector(100,100,100))"
   ]
  },
  {
   "cell_type": "code",
   "execution_count": 14,
   "id": "ac3aa463",
   "metadata": {},
   "outputs": [
    {
     "data": {
      "text/plain": [
       "[(0,), (1,)]"
      ]
     },
     "execution_count": 14,
     "metadata": {},
     "output_type": "execute_result"
    }
   ],
   "source": [
    "rank1_items_list"
   ]
  },
  {
   "cell_type": "code",
   "execution_count": 15,
   "id": "a5213767",
   "metadata": {
    "scrolled": true
   },
   "outputs": [
    {
     "data": {
      "text/plain": [
       "[(0, 0), (0, 1), (1, 0), (1, 1)]"
      ]
     },
     "execution_count": 15,
     "metadata": {},
     "output_type": "execute_result"
    }
   ],
   "source": [
    "rank2_items_list"
   ]
  },
  {
   "cell_type": "code",
   "execution_count": 16,
   "id": "9105fbd4",
   "metadata": {},
   "outputs": [
    {
     "data": {
      "text/plain": [
       "[(0, 0, 0), (0, 0, 1), (0, 1, 0), (0, 1, 1), (1, 0, 0), (1, 0, 1), (1, 1, 0), (1, 1, 1)]"
      ]
     },
     "execution_count": 16,
     "metadata": {},
     "output_type": "execute_result"
    }
   ],
   "source": [
    "rank3_items_list"
   ]
  },
  {
   "cell_type": "code",
   "execution_count": 18,
   "id": "557e21fd",
   "metadata": {},
   "outputs": [],
   "source": [
    "rank3_dataset = vector()\n",
    "for items in rank3_items_list:\n",
    "    rank = vector([math.ceil(mean_rank / delta_t)] * len(items))\n",
    "    delay = vector([math.ceil(mean_delay / delta_t)] * len(items)) + [math.ceil(mean_last_delay / delta_t)]\n",
    "    rank3_dataset.append((items, delay, rank))\n",
    "\n",
    "rank2_dataset = vector()\n",
    "for items in rank2_items_list:\n",
    "    rank = vector([math.ceil(mean_rank / delta_t)] * len(items))\n",
    "    delay = vector([math.ceil(mean_delay / delta_t)] * len(items)) + [math.ceil(mean_last_delay / delta_t)]\n",
    "    rank2_dataset.append((items, delay, rank))\n",
    "\n",
    "rank1_dataset = vector()\n",
    "for items in rank1_items_list:\n",
    "    rank = vector([math.ceil(mean_rank / delta_t)] * len(items))\n",
    "    delay = vector([math.ceil(mean_delay / delta_t)] * len(items)) + [math.ceil(mean_last_delay / delta_t)]\n",
    "    rank1_dataset.append((items, delay, rank))"
   ]
  },
  {
   "cell_type": "code",
   "execution_count": 22,
   "id": "f4d6f027",
   "metadata": {},
   "outputs": [],
   "source": [
    "final_rank2_dataset_train = vector()\n",
    "final_rank2_dataset_test = dict()\n",
    "final_rank2_dataset_test[\"rank1\"] = vector()\n",
    "final_rank2_dataset_test[\"rank2\"] = vector()\n",
    "\n",
    "# for items, delay, rank in rank2_dataset:\n",
    "#     final_rank2_dataset_train.append((items, delay.map(lambda x: int(x * (random.random() + 0.5))), rank.map(lambda x: int(x * (random.random() + 0.5)))))\n",
    "#     final_rank2_dataset_test[\"rank{}\".format(len(items))].append((items, delay.map(lambda x: int(x * (random.random() + 0.5))), rank.map(lambda x: int(x * (random.random() + 0.5))), 1))     \n",
    "\n",
    "for items, delay, rank in rank1_dataset:\n",
    "    final_rank2_dataset_test[\"rank{}\".format(len(items))].append((items, delay, rank, 1))     \n",
    "\n",
    "for items, delay, rank in rank2_dataset:\n",
    "    final_rank2_dataset_test[\"rank{}\".format(len(items))].append((items, delay, rank, 1))     \n",
    " \n",
    "table(info=info, train=vector(), test=final_rank2_dataset_test).save(f\"dataset/dataset_item_{num_items}_test_rank12.db\")"
   ]
  },
  {
   "cell_type": "code",
   "execution_count": 23,
   "id": "a7e1eb95",
   "metadata": {},
   "outputs": [],
   "source": [
    "final_rank3_dataset_train = vector()\n",
    "final_rank3_dataset_test = dict()\n",
    "final_rank3_dataset_test[\"rank1\"] = vector()\n",
    "final_rank3_dataset_test[\"rank2\"] = vector()\n",
    "final_rank3_dataset_test[\"rank3\"] = vector()\n",
    "\n",
    "# for items, delay, rank in rank2_dataset:\n",
    "#     final_rank2_dataset_train.append((items, delay.map(lambda x: int(x * (random.random() + 0.5))), rank.map(lambda x: int(x * (random.random() + 0.5)))))\n",
    "#     final_rank2_dataset_test[\"rank{}\".format(len(items))].append((items, delay.map(lambda x: int(x * (random.random() + 0.5))), rank.map(lambda x: int(x * (random.random() + 0.5))), 1))     \n",
    "\n",
    "for items, delay, rank in rank1_dataset:\n",
    "    final_rank3_dataset_test[\"rank{}\".format(len(items))].append((items, delay, rank, 1))     \n",
    "\n",
    "for items, delay, rank in rank2_dataset:\n",
    "    final_rank3_dataset_test[\"rank{}\".format(len(items))].append((items, delay, rank, 1))     \n",
    "    \n",
    "for items, delay, rank in rank3_dataset:\n",
    "    final_rank3_dataset_test[\"rank{}\".format(len(items))].append((items, delay, rank, 1))     \n",
    " \n",
    "table(info=info, train=vector(), test=final_rank3_dataset_test).save(f\"dataset/dataset_item_{num_items}_test_rank123.db\")"
   ]
  },
  {
   "cell_type": "code",
   "execution_count": null,
   "id": "3104aa29",
   "metadata": {},
   "outputs": [],
   "source": [
    "final_rank2_dataset_test"
   ]
  },
  {
   "cell_type": "code",
   "execution_count": 62,
   "id": "8d2e8686",
   "metadata": {},
   "outputs": [],
   "source": [
    "rank2_dataset = vector()\n",
    "for items in rank2_items_list:\n",
    "    rank = vector([math.ceil(mean_rank / delta_t)] * len(items))\n",
    "    delay = vector([math.ceil(mean_delay / delta_t)] * len(items)) + [math.ceil(mean_last_delay / delta_t)]\n",
    "    rank2_dataset.append((items, delay, rank))\n",
    "\n",
    "rank1_dataset = vector()\n",
    "for items in rank1_items_list:\n",
    "    rank = vector([math.ceil(mean_rank / delta_t)] * len(items))\n",
    "    delay = vector([math.ceil(mean_delay / delta_t)] * len(items)) + [math.ceil(mean_last_delay / delta_t)]\n",
    "    rank1_dataset.append((items, delay, rank))"
   ]
  },
  {
   "cell_type": "code",
   "execution_count": 63,
   "id": "06502824",
   "metadata": {},
   "outputs": [],
   "source": [
    "final_rank2_dataset_train = vector()\n",
    "final_rank2_dataset_test = dict()\n",
    "final_rank2_dataset_test[\"rank1\"] = vector()\n",
    "final_rank2_dataset_test[\"rank2\"] = vector()\n",
    "\n",
    "for items, delay, rank in rank2_dataset:\n",
    "    for _ in range(70 * 3):\n",
    "        final_rank2_dataset_train.append((items, delay.map(lambda x: int(x * (random.random() + 0.5))), rank.map(lambda x: int(x * (random.random() + 0.5)))))\n",
    "    for _ in range(30 * 3):\n",
    "        final_rank2_dataset_test[\"rank{}\".format(len(items))].append((items, map_delay(delay), rank.map(lambda x: int(x * (random.random() + 0.5))), 1))     \n",
    "\n",
    "for items, delay, rank in rank1_dataset:\n",
    "    for _ in range(30 * 3):\n",
    "        final_rank2_dataset_test[\"rank{}\".format(len(items))].append((items, map_delay(delay), rank.map(lambda x: int(x * (random.random() + 0.5))), 1))     \n",
    " \n",
    "table(info=info, train=final_rank2_dataset_train, test=final_rank2_dataset_test).save(f\"dataset/dataset_item_{num_items}_train_rank2.db\")"
   ]
  },
  {
   "cell_type": "code",
   "execution_count": 64,
   "id": "1554e3ae",
   "metadata": {},
   "outputs": [
    {
     "data": {
      "text/plain": [
       "[((0, 1), [9, 17, 71], [12, 12]), ((0, 1), [16, 19, 64], [13, 7]), ((1, 0), [21, 8, 68], [5, 6]), ((1, 0), [20, 17, 64], [6, 13]), ((0, 1), [21, 19, 28], [14, 8]), ((1, 1), [11, 15, 60], [14, 8]), ((0, 0), [15, 11, 40], [8, 6]), ((1, 0), [16, 10, 58], [6, 9]), ((0, 1), [10, 20, 38], [10, 12]), ((1, 1), [11, 17, 27], [11, 5])], with index mapping"
      ]
     },
     "execution_count": 64,
     "metadata": {},
     "output_type": "execute_result"
    }
   ],
   "source": [
    "final_rank2_dataset_train.length\n",
    "final_rank2_dataset_train.sample(10)"
   ]
  },
  {
   "cell_type": "code",
   "execution_count": 5,
   "id": "1491e8ed",
   "metadata": {},
   "outputs": [],
   "source": [
    "rank2_dataset = vector()\n",
    "for items in rank2_items_list:\n",
    "    rank = vector([math.ceil(mean_rank / delta_t)] * len(items))\n",
    "    delay = vector([math.ceil(mean_delay / delta_t)] * len(items)) + [math.ceil(mean_last_delay / delta_t)]\n",
    "    rank2_dataset.append((items, delay, rank))\n",
    "\n",
    "rank1_dataset = vector()\n",
    "for items in rank1_items_list:\n",
    "    rank = vector([math.ceil(mean_rank / delta_t)] * len(items))\n",
    "    delay = vector([math.ceil(mean_delay / delta_t)] * len(items)) + [math.ceil(mean_last_delay / delta_t)]\n",
    "    rank1_dataset.append((items, delay, rank))\n",
    "    \n",
    "rank3_dataset = vector()\n",
    "for items in rank3_items_list:\n",
    "    rank = vector([math.ceil(mean_rank / delta_t)] * len(items))\n",
    "    delay = vector([math.ceil(mean_delay / delta_t)] * len(items)) + [math.ceil(mean_last_delay / delta_t)]\n",
    "    rank3_dataset.append((items, delay, rank))"
   ]
  },
  {
   "cell_type": "code",
   "execution_count": 48,
   "id": "de0d7992",
   "metadata": {},
   "outputs": [],
   "source": [
    "final_rank3_dataset_train = vector()\n",
    "final_rank3_dataset_test = dict()\n",
    "final_rank3_dataset_test[\"rank1\"] = vector()\n",
    "final_rank3_dataset_test[\"rank2\"] = vector()\n",
    "final_rank3_dataset_test[\"rank3\"] = vector()\n",
    "seed_torch(random_seed)\n",
    "length = 3\n",
    "\n",
    "for items, delay, rank in rank3_dataset:\n",
    "    for _ in range(70 * 3):\n",
    "        final_rank3_dataset_train.append((items, map_delay(delay), rank.map(lambda x: int(x * (random.random() + 0.5)))))\n",
    "    for _ in range(30 * 3):\n",
    "        final_rank3_dataset_test[\"rank{}\".format(len(items))].append((items, map_delay(delay), rank.map(lambda x: int(x * (random.random() + 0.5))), 1))     \n",
    "\n",
    "for items, delay, rank in rank2_dataset:\n",
    "    for _ in range(30 * 3):\n",
    "        final_rank3_dataset_test[\"rank{}\".format(len(items))].append((items, map_delay(delay), rank.map(lambda x: int(x * (random.random() + 0.5))), 1))     \n",
    "\n",
    "for items, delay, rank in rank1_dataset:\n",
    "    for _ in range(30 * 3):\n",
    "        final_rank3_dataset_test[\"rank{}\".format(len(items))].append((items, map_delay(delay), rank.map(lambda x: int(x * (random.random() + 0.5))), 1))     \n",
    " \n",
    "table(info=info, train=final_rank3_dataset_train, test=final_rank3_dataset_test).save(f\"dataset/dataset_item_{num_items}_train_length_{length}.db\")"
   ]
  },
  {
   "cell_type": "code",
   "execution_count": 67,
   "id": "7237eda0",
   "metadata": {},
   "outputs": [],
   "source": [
    "final_rank3_dataset_train = vector()\n",
    "final_rank3_dataset_test = dict()\n",
    "final_rank3_dataset_test[\"rank1\"] = vector()\n",
    "final_rank3_dataset_test[\"rank2\"] = vector()\n",
    "final_rank3_dataset_test[\"rank3\"] = vector()\n",
    "seed_torch(random_seed)\n",
    "length = 3\n",
    "\n",
    "for items, delay, rank in rank3_dataset + rank2_dataset + rank1_dataset:\n",
    "    for _ in range(70 * 3):\n",
    "        final_rank3_dataset_train.append((items, map_delay(delay), rank.map(lambda x: int(x * (random.random() + 0.5)))))\n",
    "    for _ in range(30 * 3):\n",
    "        final_rank3_dataset_test[\"rank{}\".format(len(items))].append((items, map_delay(delay), rank.map(lambda x: int(x * (random.random() + 0.5))), 1))     \n",
    "\n",
    "# for items, delay, rank in rank2_dataset:\n",
    "#     for _ in range(30 * 3):\n",
    "#         final_rank3_dataset_test[\"rank{}\".format(len(items))].append((items, map_delay(delay), rank.map(lambda x: int(x * (random.random() + 0.5))), 1))     \n",
    "\n",
    "# for items, delay, rank in rank1_dataset:\n",
    "#     for _ in range(30 * 3):\n",
    "#         final_rank3_dataset_test[\"rank{}\".format(len(items))].append((items, map_delay(delay), rank.map(lambda x: int(x * (random.random() + 0.5))), 1))     \n",
    " \n",
    "table(info=info, train=final_rank3_dataset_train, test=final_rank3_dataset_test).save(f\"dataset/dataset_item_{num_items}_train_length_123.db\")"
   ]
  },
  {
   "cell_type": "code",
   "execution_count": 68,
   "id": "a4e37177",
   "metadata": {},
   "outputs": [],
   "source": [
    "sd = SimulatedDataset(f\"dataset/dataset_item_{num_items}_train_length_123.db\", 2, 10, train_items_crop=2)"
   ]
  },
  {
   "cell_type": "code",
   "execution_count": 72,
   "id": "6690abbd",
   "metadata": {},
   "outputs": [
    {
     "data": {
      "text/plain": [
       "Dataset: \n",
       "\ttrain:\t2940\t[((0, 1, 0), [11, 11, 13, 57], [9, 14, 6])]\n",
       "\ttest:\n",
       "\trank1\t180\t[((1,), [16, 56], [9], 1)]\n",
       "\trank2\t360\t[((1, 0), [21, 20, 66], [6, 5], 1)]\n",
       "\trank3\t720\t[((1, 0, 1), [21, 17, 18, 51], [14, 12, 12], 1)]"
      ]
     },
     "execution_count": 72,
     "metadata": {},
     "output_type": "execute_result"
    }
   ],
   "source": [
    "sd"
   ]
  },
  {
   "cell_type": "code",
   "execution_count": 42,
   "id": "6cb5a475",
   "metadata": {},
   "outputs": [],
   "source": [
    "seed_torch(random_seed)\n",
    "rank12_dataset = vector()\n",
    "for items in rank1_items_list:\n",
    "    # for _ in range(num_items):\n",
    "    rank = vector([math.ceil(mean_rank / delta_t)] * len(items))\n",
    "    delay = vector([math.ceil(mean_delay / delta_t)] * len(items)) + [math.ceil(mean_last_delay / delta_t)]\n",
    "    rank12_dataset.append((items, delay, rank))\n",
    "    \n",
    "for items in rank2_items_list:\n",
    "    rank = vector([math.ceil(mean_rank / delta_t)] * len(items))\n",
    "    delay = vector([math.ceil(mean_delay / delta_t)] * len(items)) + [math.ceil(mean_last_delay / delta_t)]\n",
    "    rank12_dataset.append((items, delay, rank))"
   ]
  },
  {
   "cell_type": "code",
   "execution_count": null,
   "id": "aa2a1a9d",
   "metadata": {},
   "outputs": [],
   "source": [
    "vector.range(10).map(lambda x: x * (random.random() + 0.5))"
   ]
  },
  {
   "cell_type": "code",
   "execution_count": null,
   "id": "d1aa519b",
   "metadata": {},
   "outputs": [],
   "source": [
    "final_rank12_dataset_train = vector()\n",
    "final_rank12_dataset_test = dict()\n",
    "final_rank12_dataset_test[\"rank1\"] = vector()\n",
    "final_rank12_dataset_test[\"rank2\"] = vector()\n",
    "\n",
    "for items, delay, rank in rank12_dataset:\n",
    "    for _ in range(70 * 3):\n",
    "        final_rank12_dataset_train.append((items, delay.map(lambda x: int(x * (random.random() + 0.5))), rank.map(lambda x: int(x * (random.random() + 0.5)))))\n",
    "    for _ in range(30 * 3):\n",
    "        final_rank12_dataset_test[\"rank{}\".format(len(items))].append((items, delay.map(lambda x: int(x * (random.random() + 0.5))), rank.map(lambda x: int(x * (random.random() + 0.5))), 1))       \n",
    "table(info=info, train=final_rank12_dataset_train, test=final_rank12_dataset_test).save(f\"dataset/dataset_item_{num_items}_rank12.db\")"
   ]
  },
  {
   "cell_type": "code",
   "execution_count": null,
   "id": "38c2cc8b",
   "metadata": {},
   "outputs": [],
   "source": [
    "print(len(final_rank12_dataset_train))\n",
    "print(final_rank12_dataset_train.map(lambda x: x[0]).count_all())"
   ]
  },
  {
   "cell_type": "code",
   "execution_count": null,
   "id": "f0f9abd4",
   "metadata": {},
   "outputs": [],
   "source": []
  },
  {
   "cell_type": "markdown",
   "id": "e5577f25",
   "metadata": {},
   "source": [
    "# generate testing dataset"
   ]
  },
  {
   "cell_type": "code",
   "execution_count": null,
   "id": "e31269c5",
   "metadata": {},
   "outputs": [],
   "source": [
    "items_list = vector.range(num_items) ** 2\n",
    "rank2_dataset = vector()\n",
    "for items in items_list:\n",
    "    rank = vector([10]) * 2\n",
    "    delay = vector([15]) * 2\n",
    "    for d in range(25, 101):\n",
    "        rank2_dataset.append((items, delay + [d], rank, d))"
   ]
  },
  {
   "cell_type": "code",
   "execution_count": null,
   "id": "e16139c3",
   "metadata": {},
   "outputs": [],
   "source": [
    "rank2_dataset.sample(5).apply(print)"
   ]
  },
  {
   "cell_type": "code",
   "execution_count": null,
   "id": "90e1d552",
   "metadata": {},
   "outputs": [],
   "source": [
    "rank2_dataset.length"
   ]
  },
  {
   "cell_type": "code",
   "execution_count": null,
   "id": "15dc2df5",
   "metadata": {},
   "outputs": [],
   "source": [
    "t = table(train=vector(), test=rank2_dataset)\n",
    "t.save(f\"dataset/dataset_only_rank2_with_lastdelay_25_100.db\")"
   ]
  },
  {
   "cell_type": "code",
   "execution_count": null,
   "id": "45ac9bab",
   "metadata": {},
   "outputs": [],
   "source": [
    "items_list = vector.range(num_items) ** 2\n",
    "rank2_dataset = vector()\n",
    "for items in items_list:\n",
    "    rank = vector([10]) * 2\n",
    "    delay = vector([15]) * 2\n",
    "    d = 50\n",
    "    rank2_dataset.append((items, delay + [d], rank, d))"
   ]
  },
  {
   "cell_type": "code",
   "execution_count": null,
   "id": "26bedb88",
   "metadata": {},
   "outputs": [],
   "source": [
    "rank2_dataset.sample(5).apply(print)"
   ]
  },
  {
   "cell_type": "code",
   "execution_count": null,
   "id": "b6c90cd5",
   "metadata": {},
   "outputs": [],
   "source": [
    "rank2_dataset.length"
   ]
  },
  {
   "cell_type": "code",
   "execution_count": null,
   "id": "7f8b06b4",
   "metadata": {},
   "outputs": [],
   "source": [
    "t.save(f\"dataset/dataset_only_rank2_with_lastdelay_50.db\")"
   ]
  },
  {
   "cell_type": "code",
   "execution_count": null,
   "id": "50fc3926",
   "metadata": {},
   "outputs": [],
   "source": [
    "items_list = vector.range(num_items) ** 1\n",
    "rank1_dataset = vector()\n",
    "for items in items_list:\n",
    "    rank = vector([10])\n",
    "    delay = vector([15])\n",
    "    for d in range(25, 101):\n",
    "        rank1_dataset.append((items, delay + [d], rank, d))"
   ]
  },
  {
   "cell_type": "code",
   "execution_count": null,
   "id": "d1a53601",
   "metadata": {},
   "outputs": [],
   "source": [
    "len(rank1_dataset), rank1_dataset.sample()"
   ]
  },
  {
   "cell_type": "code",
   "execution_count": null,
   "id": "b67f7e5b",
   "metadata": {},
   "outputs": [],
   "source": [
    "t1 = table(train=vector(), test=rank1_dataset)\n",
    "t1.save(f\"dataset/dataset_only_rank1_with_lastdelay_25_100.db\")"
   ]
  },
  {
   "cell_type": "code",
   "execution_count": null,
   "id": "8ca7acb5",
   "metadata": {},
   "outputs": [],
   "source": [
    "items_list = vector.range(num_items) ** 1\n",
    "rank1_dataset_new= vector()\n",
    "for items in items_list:\n",
    "    rank = vector([10])\n",
    "    delay = vector([15])\n",
    "    for r in range(5, 16):\n",
    "        rank1_dataset_new.append((items, vector([15, 50]), vector([r]), r))"
   ]
  },
  {
   "cell_type": "code",
   "execution_count": null,
   "id": "12395f7a",
   "metadata": {},
   "outputs": [],
   "source": [
    "len(rank1_dataset_new), rank1_dataset_new.sample()"
   ]
  },
  {
   "cell_type": "code",
   "execution_count": null,
   "id": "1bfbf665",
   "metadata": {},
   "outputs": [],
   "source": [
    "t2 = table(train=vector(), test=rank1_dataset_new)\n",
    "t2.save(f\"dataset/dataset_only_rank1_with_last_delay_50_rank_5_15.db\")"
   ]
  },
  {
   "cell_type": "code",
   "execution_count": null,
   "id": "3d1d3c92",
   "metadata": {},
   "outputs": [],
   "source": [
    "items_list = vector.range(num_items) ** 3\n",
    "# rank3_dataset = vector()\n",
    "delay = int(mean_delay / delta_t)\n",
    "rank = int(mean_rank / delta_t)\n",
    "last_delay = int(mean_last_delay / delta_t) * 2\n",
    "    \n",
    "rank3_dataset = items_list.map(lambda items: (items, vector([delay, delay, delay, last_delay]), vector([rank, rank, rank]), 0))"
   ]
  },
  {
   "cell_type": "code",
   "execution_count": null,
   "id": "e4ff4a9b",
   "metadata": {},
   "outputs": [],
   "source": [
    "len(rank3_dataset), rank3_dataset.sample()"
   ]
  },
  {
   "cell_type": "code",
   "execution_count": null,
   "id": "ac16d4fd",
   "metadata": {},
   "outputs": [],
   "source": [
    "t3 = table(train=vector(), test=rank3_dataset)\n",
    "t3.save(\"dataset/dataset_only_rank3_with_rank_10_delay_15_last_delay_100.db\")"
   ]
  },
  {
   "cell_type": "code",
   "execution_count": null,
   "id": "7fdd6e71",
   "metadata": {},
   "outputs": [],
   "source": [
    "items_list = vector.range(num_items) ** 1\n",
    "\n",
    "delay = int(mean_delay / delta_t)\n",
    "rank = int(mean_rank / delta_t)\n",
    "last_delay = int(mean_last_delay / delta_t) * 3\n",
    "\n",
    "rank4_dataset = items_list.map(lambda items: (items, vector([delay, last_delay]), vector([rank]), 0))"
   ]
  },
  {
   "cell_type": "code",
   "execution_count": null,
   "id": "2d3e45ea",
   "metadata": {},
   "outputs": [],
   "source": [
    "len(rank4_dataset), rank4_dataset.sample()"
   ]
  },
  {
   "cell_type": "code",
   "execution_count": null,
   "id": "ced3079e",
   "metadata": {},
   "outputs": [],
   "source": [
    "t4 = table(train=vector(), test=rank4_dataset)\n",
    "t4.save(\"dataset/dataset_only_rank1_with_rank_10_delay_15_last_delay_150.db\")"
   ]
  },
  {
   "cell_type": "code",
   "execution_count": null,
   "id": "6cfa0436",
   "metadata": {},
   "outputs": [],
   "source": [
    "items_list = vector.range(num_items) ** 4\n",
    "# rank3_dataset = vector()\n",
    "delay = int(mean_delay / delta_t)\n",
    "rank = int(mean_rank / delta_t)\n",
    "last_delay = int(mean_last_delay / delta_t) * 2\n",
    "    \n",
    "length4_dataset = items_list.map(lambda items: (items, vector([delay, delay, delay, delay, last_delay]), vector([rank, rank, rank, rank]), 0))"
   ]
  },
  {
   "cell_type": "code",
   "execution_count": null,
   "id": "6f955cf3",
   "metadata": {},
   "outputs": [],
   "source": [
    "len(length4_dataset), length4_dataset.sample()"
   ]
  },
  {
   "cell_type": "code",
   "execution_count": null,
   "id": "a4b7b974",
   "metadata": {},
   "outputs": [],
   "source": [
    "t5 = table(train=vector(), test=length4_dataset)\n",
    "t5.save(\"dataset/dataset_only_rank4_with_rank_10_delay_15_last_delay_100.db\")"
   ]
  },
  {
   "cell_type": "code",
   "execution_count": null,
   "id": "a1f1acc8",
   "metadata": {},
   "outputs": [],
   "source": [
    "items_list = vector.range(num_items) ** 3\n",
    "# rank3_dataset = vector()\n",
    "delay = int(mean_delay / delta_t)\n",
    "rank = int(mean_rank / delta_t)\n",
    "last_delay = int(mean_last_delay / delta_t)\n",
    "    \n",
    "rank3_dataset = items_list.map(lambda items: (items, vector([delay, delay, delay, last_delay]), vector([rank, rank, rank]), 0))\n",
    "\n",
    "print(len(rank3_dataset), rank3_dataset.sample())\n",
    "\n",
    "t6 = table(train=vector(), test=rank3_dataset)\n",
    "t6.save(\"dataset/dataset_only_rank3_with_rank_10_delay_15_last_delay_50.db\")"
   ]
  },
  {
   "cell_type": "code",
   "execution_count": 65,
   "id": "b9c9b0e4",
   "metadata": {},
   "outputs": [],
   "source": [
    "hyper=table(datapath='dataset/dataset_item_2_train_length_3.db', learning_rate=0.001, l2_reg=1e-5, encoder_max_rank=2, max_epochs=3000, embedding='dataset/embedding_inputdim_2_embeddingdim_4096_round_without_normalize.db', residual_loss=1e-2, train_items_crop=2)"
   ]
  },
  {
   "cell_type": "code",
   "execution_count": 66,
   "id": "19d82931",
   "metadata": {},
   "outputs": [
    {
     "data": {
      "text/plain": [
       "{'datapath': 'dataset/dataset_item_2_train_length_3.db',\n",
       " 'learning_rate': 0.001,\n",
       " 'l2_reg': 1e-05,\n",
       " 'encoder_max_rank': 2,\n",
       " 'max_epochs': 3000,\n",
       " 'embedding': 'dataset/embedding_inputdim_2_embeddingdim_4096_round_without_normalize.db',\n",
       " 'residual_loss': 0.01,\n",
       " 'train_items_crop': 2}"
      ]
     },
     "execution_count": 66,
     "metadata": {},
     "output_type": "execute_result"
    }
   ],
   "source": [
    "hyper"
   ]
  },
  {
   "cell_type": "code",
   "execution_count": null,
   "id": "6e9de658",
   "metadata": {},
   "outputs": [],
   "source": []
  }
 ],
 "metadata": {
  "kernelspec": {
   "display_name": "Python 3",
   "language": "python",
   "name": "python3"
  },
  "language_info": {
   "codemirror_mode": {
    "name": "ipython",
    "version": 3
   },
   "file_extension": ".py",
   "mimetype": "text/x-python",
   "name": "python",
   "nbconvert_exporter": "python",
   "pygments_lexer": "ipython3",
   "version": "3.8.8"
  }
 },
 "nbformat": 4,
 "nbformat_minor": 5
}
