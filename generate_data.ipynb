{
 "cells": [
  {
   "cell_type": "code",
   "execution_count": 1,
   "metadata": {},
   "outputs": [],
   "source": [
    "import torch\n",
    "import torch.nn as nn\n",
    "from zytlib import vector\n",
    "import math\n",
    "from zytlib.classfunc import save_args\n",
    "from torch.nn.utils.rnn import pad_sequence\n",
    "from zytlib.wrapper import second_argument\n",
    "from zytlib.table import table\n",
    "import math\n",
    "from torchfunction.utils import seed_torch\n",
    "import random"
   ]
  },
  {
   "cell_type": "code",
   "execution_count": 2,
   "metadata": {},
   "outputs": [],
   "source": [
    "from dataset import Emulater, emulate, generate_in_train_label, dataset, SimulatedDataset"
   ]
  },
  {
   "cell_type": "code",
   "execution_count": 3,
   "metadata": {},
   "outputs": [],
   "source": [
    "delta_t = 20\n",
    "mean_delay = 300\n",
    "mean_rank = 200\n",
    "mean_last_delay = 1000\n",
    "num_items = 2\n",
    "random_seed = 1024\n",
    "\n",
    "info = table(delta_t=delta_t, mean_delay=mean_delay, mean_rank=mean_rank, mean_last_delay=mean_last_delay, num_items=num_items, random_seed=random_seed)"
   ]
  },
  {
   "cell_type": "markdown",
   "metadata": {},
   "source": [
    "# generate training dataset"
   ]
  },
  {
   "cell_type": "code",
   "execution_count": 4,
   "metadata": {},
   "outputs": [],
   "source": [
    "seed_torch(random_seed)\n",
    "rank3_items_list = vector.range(num_items) ** 3\n",
    "rank2_items_list = vector.range(num_items) ** 2\n",
    "rank1_items_list = vector.range(num_items) ** 1\n",
    "\n",
    "def map_delay(delay):\n",
    "    return delay[:-1].map(lambda x: int(x * (random.random() + 0.5))) + delay[-1:].map(lambda x: int(x * (random.random() * 0.5 + 1)))"
   ]
  },
  {
   "cell_type": "code",
   "execution_count": 5,
   "metadata": {},
   "outputs": [
    {
     "data": {
      "text/plain": [
       "[129, 98, 119]"
      ]
     },
     "execution_count": 5,
     "metadata": {},
     "output_type": "execute_result"
    }
   ],
   "source": [
    "map_delay(vector(100,100,100))"
   ]
  },
  {
   "cell_type": "code",
   "execution_count": 6,
   "metadata": {},
   "outputs": [
    {
     "data": {
      "text/plain": [
       "[(0,), (1,)]"
      ]
     },
     "execution_count": 6,
     "metadata": {},
     "output_type": "execute_result"
    }
   ],
   "source": [
    "rank1_items_list"
   ]
  },
  {
   "cell_type": "code",
   "execution_count": 7,
   "metadata": {
    "scrolled": true
   },
   "outputs": [
    {
     "data": {
      "text/plain": [
       "[(0, 0), (0, 1), (1, 0), (1, 1)]"
      ]
     },
     "execution_count": 7,
     "metadata": {},
     "output_type": "execute_result"
    }
   ],
   "source": [
    "rank2_items_list"
   ]
  },
  {
   "cell_type": "code",
   "execution_count": 8,
   "metadata": {},
   "outputs": [
    {
     "data": {
      "text/plain": [
       "[(0, 0, 0), (0, 0, 1), (0, 1, 0), (0, 1, 1), (1, 0, 0), (1, 0, 1), (1, 1, 0), (1, 1, 1)]"
      ]
     },
     "execution_count": 8,
     "metadata": {},
     "output_type": "execute_result"
    }
   ],
   "source": [
    "rank3_items_list"
   ]
  },
  {
   "cell_type": "code",
   "execution_count": 9,
   "metadata": {},
   "outputs": [],
   "source": [
    "rank3_dataset = vector()\n",
    "for items in rank3_items_list:\n",
    "    rank = vector([math.ceil(mean_rank / delta_t)] * len(items))\n",
    "    delay = vector([math.ceil(mean_delay / delta_t)] * len(items)) + [math.ceil(mean_last_delay / delta_t)]\n",
    "    rank3_dataset.append((items, delay, rank))\n",
    "\n",
    "rank2_dataset = vector()\n",
    "for items in rank2_items_list:\n",
    "    rank = vector([math.ceil(mean_rank / delta_t)] * len(items))\n",
    "    delay = vector([math.ceil(mean_delay / delta_t)] * len(items)) + [math.ceil(mean_last_delay / delta_t)]\n",
    "    rank2_dataset.append((items, delay, rank))\n",
    "\n",
    "rank1_dataset = vector()\n",
    "for items in rank1_items_list:\n",
    "    rank = vector([math.ceil(mean_rank / delta_t)] * len(items))\n",
    "    delay = vector([math.ceil(mean_delay / delta_t)] * len(items)) + [math.ceil(mean_last_delay / delta_t)]\n",
    "    rank1_dataset.append((items, delay, rank))"
   ]
  },
  {
   "cell_type": "code",
   "execution_count": 10,
   "metadata": {},
   "outputs": [],
   "source": [
    "final_rank2_dataset_train = vector()\n",
    "final_rank2_dataset_test = dict()\n",
    "final_rank2_dataset_test[\"L1\"] = vector()\n",
    "final_rank2_dataset_test[\"L2\"] = vector()\n",
    "\n",
    "# for items, delay, rank in rank2_dataset:\n",
    "#     final_rank2_dataset_train.append((items, delay.map(lambda x: int(x * (random.random() + 0.5))), rank.map(lambda x: int(x * (random.random() + 0.5)))))\n",
    "#     final_rank2_dataset_test[\"rank{}\".format(len(items))].append((items, delay.map(lambda x: int(x * (random.random() + 0.5))), rank.map(lambda x: int(x * (random.random() + 0.5))), 1))     \n",
    "\n",
    "for items, delay, rank in rank1_dataset:\n",
    "    final_rank2_dataset_test[\"L{}\".format(len(items))].append((items, delay, rank, 1))     \n",
    "\n",
    "for items, delay, rank in rank2_dataset:\n",
    "    final_rank2_dataset_test[\"L{}\".format(len(items))].append((items, delay, rank, 1))     \n",
    " \n",
    "table(info=info, train=vector(), test=final_rank2_dataset_test, hyper=table(num_items=num_items)).save(f\"dataset/dataset_item_{num_items}_test_rank12.db\")"
   ]
  },
  {
   "cell_type": "code",
   "execution_count": 11,
   "metadata": {},
   "outputs": [],
   "source": [
    "final_rank3_dataset_train = vector()\n",
    "final_rank3_dataset_test = dict()\n",
    "final_rank3_dataset_test[\"L1\"] = vector()\n",
    "final_rank3_dataset_test[\"L2\"] = vector()\n",
    "final_rank3_dataset_test[\"L3\"] = vector()\n",
    "\n",
    "# for items, delay, rank in rank2_dataset:\n",
    "#     final_rank2_dataset_train.append((items, delay.map(lambda x: int(x * (random.random() + 0.5))), rank.map(lambda x: int(x * (random.random() + 0.5)))))\n",
    "#     final_rank2_dataset_test[\"rank{}\".format(len(items))].append((items, delay.map(lambda x: int(x * (random.random() + 0.5))), rank.map(lambda x: int(x * (random.random() + 0.5))), 1))     \n",
    "\n",
    "for items, delay, rank in rank1_dataset:\n",
    "    final_rank3_dataset_test[\"L{}\".format(len(items))].append((items, delay, rank, 1))     \n",
    "\n",
    "for items, delay, rank in rank2_dataset:\n",
    "    final_rank3_dataset_test[\"L{}\".format(len(items))].append((items, delay, rank, 1))     \n",
    "    \n",
    "for items, delay, rank in rank3_dataset:\n",
    "    final_rank3_dataset_test[\"L{}\".format(len(items))].append((items, delay, rank, 1))     \n",
    " \n",
    "table(info=info, train=vector(), test=final_rank3_dataset_test, hyper=table(num_items=num_items)).save(f\"dataset/dataset_item_{num_items}_test_rank123.db\")"
   ]
  },
  {
   "cell_type": "code",
   "execution_count": 12,
   "metadata": {},
   "outputs": [
    {
     "data": {
      "text/plain": [
       "{'L1': [((0,), [15, 50], [10], 1), ((1,), [15, 50], [10], 1)],\n",
       " 'L2': [((0, 0), [15, 15, 50], [10, 10], 1), ((0, 1), [15, 15, 50], [10, 10], 1), ((1, 0), [15, 15, 50], [10, 10], 1), ((1, 1), [15, 15, 50], [10, 10], 1)]}"
      ]
     },
     "execution_count": 12,
     "metadata": {},
     "output_type": "execute_result"
    }
   ],
   "source": [
    "final_rank2_dataset_test"
   ]
  },
  {
   "cell_type": "code",
   "execution_count": 13,
   "metadata": {},
   "outputs": [],
   "source": [
    "rank2_dataset = vector()\n",
    "for items in rank2_items_list:\n",
    "    rank = vector([math.ceil(mean_rank / delta_t)] * len(items))\n",
    "    delay = vector([math.ceil(mean_delay / delta_t)] * len(items)) + [math.ceil(mean_last_delay / delta_t)]\n",
    "    rank2_dataset.append((items, delay, rank))\n",
    "\n",
    "rank1_dataset = vector()\n",
    "for items in rank1_items_list:\n",
    "    rank = vector([math.ceil(mean_rank / delta_t)] * len(items))\n",
    "    delay = vector([math.ceil(mean_delay / delta_t)] * len(items)) + [math.ceil(mean_last_delay / delta_t)]\n",
    "    rank1_dataset.append((items, delay, rank))"
   ]
  },
  {
   "cell_type": "code",
   "execution_count": 14,
   "metadata": {},
   "outputs": [],
   "source": [
    "final_rank2_dataset_train = vector()\n",
    "final_rank2_dataset_test = dict()\n",
    "final_rank2_dataset_test[\"L1\"] = vector()\n",
    "final_rank2_dataset_test[\"L2\"] = vector()\n",
    "\n",
    "for items, delay, rank in rank2_dataset:\n",
    "    for _ in range(70 * 3):\n",
    "        final_rank2_dataset_train.append((items, delay.map(lambda x: int(x * (random.random() + 0.5))), rank.map(lambda x: int(x * (random.random() + 0.5)))))\n",
    "    for _ in range(30 * 3):\n",
    "        final_rank2_dataset_test[\"L{}\".format(len(items))].append((items, map_delay(delay), rank.map(lambda x: int(x * (random.random() + 0.5))), 1))     \n",
    "\n",
    "for items, delay, rank in rank1_dataset:\n",
    "    for _ in range(30 * 3):\n",
    "        final_rank2_dataset_test[\"L{}\".format(len(items))].append((items, map_delay(delay), rank.map(lambda x: int(x * (random.random() + 0.5))), 1))     \n",
    " \n",
    "table(info=info, train=final_rank2_dataset_train, test=final_rank2_dataset_test, hyper=table(num_items=num_items)).save(f\"dataset/dataset_item_{num_items}_train_rank2.db\")"
   ]
  },
  {
   "cell_type": "code",
   "execution_count": 15,
   "metadata": {},
   "outputs": [
    {
     "name": "stdout",
     "output_type": "stream",
     "text": [
      "840\n"
     ]
    },
    {
     "data": {
      "text/plain": [
       "[((1, 0), [21, 20, 69], [9, 14]), ((1, 0), [10, 10, 34], [9, 7]), ((1, 0), [13, 11, 27], [11, 6]), ((1, 0), [16, 9, 67], [11, 13]), ((0, 0), [18, 16, 40], [8, 6]), ((0, 1), [18, 13, 71], [6, 13]), ((1, 0), [16, 14, 41], [13, 8]), ((0, 1), [19, 13, 30], [14, 11]), ((1, 0), [13, 22, 38], [12, 6]), ((1, 0), [15, 10, 25], [10, 11])], with index mapping"
      ]
     },
     "execution_count": 15,
     "metadata": {},
     "output_type": "execute_result"
    }
   ],
   "source": [
    "print(final_rank2_dataset_train.length)\n",
    "final_rank2_dataset_train.sample(10)"
   ]
  },
  {
   "cell_type": "code",
   "execution_count": 16,
   "metadata": {},
   "outputs": [],
   "source": [
    "rank2_dataset = vector()\n",
    "for items in rank2_items_list:\n",
    "    rank = vector([math.ceil(mean_rank / delta_t)] * len(items))\n",
    "    delay = vector([math.ceil(mean_delay / delta_t)] * len(items)) + [math.ceil(mean_last_delay / delta_t)]\n",
    "    rank2_dataset.append((items, delay, rank))\n",
    "\n",
    "rank1_dataset = vector()\n",
    "for items in rank1_items_list:\n",
    "    rank = vector([math.ceil(mean_rank / delta_t)] * len(items))\n",
    "    delay = vector([math.ceil(mean_delay / delta_t)] * len(items)) + [math.ceil(mean_last_delay / delta_t)]\n",
    "    rank1_dataset.append((items, delay, rank))\n",
    "    \n",
    "rank3_dataset = vector()\n",
    "for items in rank3_items_list:\n",
    "    rank = vector([math.ceil(mean_rank / delta_t)] * len(items))\n",
    "    delay = vector([math.ceil(mean_delay / delta_t)] * len(items)) + [math.ceil(mean_last_delay / delta_t)]\n",
    "    rank3_dataset.append((items, delay, rank))"
   ]
  },
  {
   "cell_type": "code",
   "execution_count": 17,
   "metadata": {},
   "outputs": [],
   "source": [
    "final_rank3_dataset_train = vector()\n",
    "final_rank3_dataset_test = dict()\n",
    "final_rank3_dataset_test[\"L1\"] = vector()\n",
    "final_rank3_dataset_test[\"L2\"] = vector()\n",
    "final_rank3_dataset_test[\"L3\"] = vector()\n",
    "seed_torch(random_seed)\n",
    "length = 3\n",
    "\n",
    "for items, delay, rank in rank3_dataset:\n",
    "    for _ in range(70 * 3):\n",
    "        final_rank3_dataset_train.append((items, map_delay(delay), rank.map(lambda x: int(x * (random.random() + 0.5)))))\n",
    "    for _ in range(30 * 3):\n",
    "        final_rank3_dataset_test[\"L{}\".format(len(items))].append((items, map_delay(delay), rank.map(lambda x: int(x * (random.random() + 0.5))), 1))     \n",
    "\n",
    "for items, delay, rank in rank2_dataset:\n",
    "    for _ in range(30 * 3):\n",
    "        final_rank3_dataset_test[\"L{}\".format(len(items))].append((items, map_delay(delay), rank.map(lambda x: int(x * (random.random() + 0.5))), 1))     \n",
    "\n",
    "for items, delay, rank in rank1_dataset:\n",
    "    for _ in range(30 * 3):\n",
    "        final_rank3_dataset_test[\"L{}\".format(len(items))].append((items, map_delay(delay), rank.map(lambda x: int(x * (random.random() + 0.5))), 1))     \n",
    " \n",
    "table(info=info, train=final_rank3_dataset_train, test=final_rank3_dataset_test, hyper=table(num_items=num_items)).save(f\"dataset/dataset_item_{num_items}_train_length_{length}.db\")"
   ]
  },
  {
   "cell_type": "code",
   "execution_count": 18,
   "metadata": {},
   "outputs": [],
   "source": [
    "final_rank3_dataset_train = vector()\n",
    "final_rank3_dataset_test = dict()\n",
    "final_rank3_dataset_test[\"L1\"] = vector()\n",
    "final_rank3_dataset_test[\"L2\"] = vector()\n",
    "final_rank3_dataset_test[\"L3\"] = vector()\n",
    "seed_torch(random_seed)\n",
    "length = 3\n",
    "\n",
    "for items, delay, rank in rank3_dataset + rank2_dataset + rank1_dataset:\n",
    "    for _ in range(70 * 3):\n",
    "        final_rank3_dataset_train.append((items, map_delay(delay), rank.map(lambda x: int(x * (random.random() + 0.5)))))\n",
    "    for _ in range(30 * 3):\n",
    "        final_rank3_dataset_test[\"L{}\".format(len(items))].append((items, map_delay(delay), rank.map(lambda x: int(x * (random.random() + 0.5))), 1))     \n",
    "\n",
    "# for items, delay, rank in rank2_dataset:\n",
    "#     for _ in range(30 * 3):\n",
    "#         final_rank3_dataset_test[\"rank{}\".format(len(items))].append((items, map_delay(delay), rank.map(lambda x: int(x * (random.random() + 0.5))), 1))     \n",
    "\n",
    "# for items, delay, rank in rank1_dataset:\n",
    "#     for _ in range(30 * 3):\n",
    "#         final_rank3_dataset_test[\"rank{}\".format(len(items))].append((items, map_delay(delay), rank.map(lambda x: int(x * (random.random() + 0.5))), 1))     \n",
    " \n",
    "table(info=info, train=final_rank3_dataset_train, test=final_rank3_dataset_test, hyper=table(num_items=num_items)).save(f\"dataset/dataset_item_{num_items}_train_length_123.db\")"
   ]
  },
  {
   "cell_type": "code",
   "execution_count": 19,
   "metadata": {
    "scrolled": true
   },
   "outputs": [],
   "source": [
    "sd = SimulatedDataset(f\"dataset/dataset_item_{num_items}_train_length_123.db\", 10, train_items_crop=2)"
   ]
  },
  {
   "cell_type": "code",
   "execution_count": 24,
   "metadata": {},
   "outputs": [
    {
     "data": {
      "text/plain": [
       "Dataset: \n",
       "\ttrain:\t2940\t[((0, 1, 0), [11, 11, 13, 57], [9, 14, 6])]\n",
       "\ttest:\n",
       "\tL1\t180\t[((1,), [16, 56], [9], 1)]\n",
       "\tL2\t360\t[((1, 0), [21, 20, 66], [6, 5], 1)]\n",
       "\tL3\t720\t[((1, 0, 1), [21, 17, 18, 51], [14, 12, 12], 1)]"
      ]
     },
     "execution_count": 24,
     "metadata": {},
     "output_type": "execute_result"
    }
   ],
   "source": [
    "sd"
   ]
  },
  {
   "cell_type": "code",
   "execution_count": 25,
   "metadata": {},
   "outputs": [],
   "source": [
    "seed_torch(random_seed)\n",
    "rank12_dataset = vector()\n",
    "for items in rank1_items_list:\n",
    "    # for _ in range(num_items):\n",
    "    rank = vector([math.ceil(mean_rank / delta_t)] * len(items))\n",
    "    delay = vector([math.ceil(mean_delay / delta_t)] * len(items)) + [math.ceil(mean_last_delay / delta_t)]\n",
    "    rank12_dataset.append((items, delay, rank))\n",
    "    \n",
    "for items in rank2_items_list:\n",
    "    rank = vector([math.ceil(mean_rank / delta_t)] * len(items))\n",
    "    delay = vector([math.ceil(mean_delay / delta_t)] * len(items)) + [math.ceil(mean_last_delay / delta_t)]\n",
    "    rank12_dataset.append((items, delay, rank))"
   ]
  },
  {
   "cell_type": "code",
   "execution_count": 26,
   "metadata": {},
   "outputs": [
    {
     "data": {
      "text/plain": [
       "[0.0, 0.9834988702079559, 1.7788556266310196, 3.988229664995395, 5.481733665459814, 3.002175481808213, 6.077275933290929, 10.196949464498463, 9.77455638689112, 10.943720656033125]"
      ]
     },
     "execution_count": 26,
     "metadata": {},
     "output_type": "execute_result"
    }
   ],
   "source": [
    "vector.range(10).map(lambda x: x * (random.random() + 0.5))"
   ]
  },
  {
   "cell_type": "code",
   "execution_count": 34,
   "metadata": {},
   "outputs": [],
   "source": [
    "final_rank12_dataset_train = vector()\n",
    "final_rank12_dataset_test = dict()\n",
    "final_rank12_dataset_test[\"L1\"] = vector()\n",
    "final_rank12_dataset_test[\"L2\"] = vector()\n",
    "\n",
    "for items, delay, rank in rank12_dataset:\n",
    "    for _ in range(70 * 3):\n",
    "        final_rank12_dataset_train.append((items, map_delay(delay), rank.map(lambda x: int(x * (random.random() + 0.5)))))\n",
    "    for _ in range(30 * 3):\n",
    "        final_rank12_dataset_test[\"L{}\".format(len(items))].append((items, map_delay(delay), rank.map(lambda x: int(x * (random.random() + 0.5))), 1))       \n",
    "table(info=info, train=final_rank12_dataset_train, test=final_rank12_dataset_test, hyper=table(num_items=num_items)).save(f\"dataset/dataset_item_{num_items}_rank12.db\")"
   ]
  },
  {
   "cell_type": "code",
   "execution_count": 35,
   "metadata": {},
   "outputs": [
    {
     "name": "stdout",
     "output_type": "stream",
     "text": [
      "1260\n",
      "Counter({(0,): 210, (1,): 210, (0, 0): 210, (0, 1): 210, (1, 0): 210, (1, 1): 210})\n"
     ]
    }
   ],
   "source": [
    "print(len(final_rank12_dataset_train))\n",
    "print(final_rank12_dataset_train.map(lambda x: x[0]).count_all())"
   ]
  },
  {
   "cell_type": "code",
   "execution_count": 36,
   "metadata": {},
   "outputs": [],
   "source": [
    "sd = SimulatedDataset(f\"dataset/dataset_item_{num_items}_rank12.db\", 10, train_items_crop=2)"
   ]
  },
  {
   "cell_type": "code",
   "execution_count": 37,
   "metadata": {},
   "outputs": [
    {
     "data": {
      "text/plain": [
       "Dataset: \n",
       "\ttrain:\t1260\t[((0, 0), [10, 14, 53], [10, 7])]\n",
       "\ttest:\n",
       "\tL1\t180\t[((1,), [17, 61], [13], 1)]\n",
       "\tL2\t360\t[((1, 0), [20, 22, 63], [12, 11], 1)]"
      ]
     },
     "execution_count": 37,
     "metadata": {},
     "output_type": "execute_result"
    }
   ],
   "source": [
    "sd"
   ]
  },
  {
   "cell_type": "markdown",
   "metadata": {},
   "source": [
    "# generate testing dataset"
   ]
  },
  {
   "cell_type": "code",
   "execution_count": null,
   "metadata": {},
   "outputs": [],
   "source": [
    "items_list = vector.range(num_items) ** 2\n",
    "rank2_dataset = vector()\n",
    "for items in items_list:\n",
    "    rank = vector([10]) * 2\n",
    "    delay = vector([15]) * 2\n",
    "    for d in range(25, 101):\n",
    "        rank2_dataset.append((items, delay + [d], rank, d))"
   ]
  },
  {
   "cell_type": "code",
   "execution_count": null,
   "metadata": {},
   "outputs": [],
   "source": [
    "rank2_dataset.sample(5).apply(print)"
   ]
  },
  {
   "cell_type": "code",
   "execution_count": null,
   "metadata": {},
   "outputs": [],
   "source": [
    "rank2_dataset.length"
   ]
  },
  {
   "cell_type": "code",
   "execution_count": null,
   "metadata": {},
   "outputs": [],
   "source": [
    "t = table(train=vector(), test=rank2_dataset)\n",
    "t.save(f\"dataset/dataset_only_rank2_with_lastdelay_25_100.db\")"
   ]
  },
  {
   "cell_type": "code",
   "execution_count": null,
   "metadata": {},
   "outputs": [],
   "source": [
    "items_list = vector.range(num_items) ** 2\n",
    "rank2_dataset = vector()\n",
    "for items in items_list:\n",
    "    rank = vector([10]) * 2\n",
    "    delay = vector([15]) * 2\n",
    "    d = 50\n",
    "    rank2_dataset.append((items, delay + [d], rank, d))"
   ]
  },
  {
   "cell_type": "code",
   "execution_count": null,
   "metadata": {},
   "outputs": [],
   "source": [
    "rank2_dataset.sample(5).apply(print)"
   ]
  },
  {
   "cell_type": "code",
   "execution_count": null,
   "metadata": {},
   "outputs": [],
   "source": [
    "rank2_dataset.length"
   ]
  },
  {
   "cell_type": "code",
   "execution_count": null,
   "metadata": {},
   "outputs": [],
   "source": [
    "t.save(f\"dataset/dataset_only_rank2_with_lastdelay_50.db\")"
   ]
  },
  {
   "cell_type": "code",
   "execution_count": null,
   "metadata": {},
   "outputs": [],
   "source": [
    "items_list = vector.range(num_items) ** 1\n",
    "rank1_dataset = vector()\n",
    "for items in items_list:\n",
    "    rank = vector([10])\n",
    "    delay = vector([15])\n",
    "    for d in range(25, 101):\n",
    "        rank1_dataset.append((items, delay + [d], rank, d))"
   ]
  },
  {
   "cell_type": "code",
   "execution_count": null,
   "metadata": {},
   "outputs": [],
   "source": [
    "len(rank1_dataset), rank1_dataset.sample()"
   ]
  },
  {
   "cell_type": "code",
   "execution_count": null,
   "metadata": {},
   "outputs": [],
   "source": [
    "t1 = table(train=vector(), test=rank1_dataset)\n",
    "t1.save(f\"dataset/dataset_only_rank1_with_lastdelay_25_100.db\")"
   ]
  },
  {
   "cell_type": "code",
   "execution_count": null,
   "metadata": {},
   "outputs": [],
   "source": [
    "items_list = vector.range(num_items) ** 1\n",
    "rank1_dataset_new= vector()\n",
    "for items in items_list:\n",
    "    rank = vector([10])\n",
    "    delay = vector([15])\n",
    "    for r in range(5, 16):\n",
    "        rank1_dataset_new.append((items, vector([15, 50]), vector([r]), r))"
   ]
  },
  {
   "cell_type": "code",
   "execution_count": null,
   "metadata": {},
   "outputs": [],
   "source": [
    "len(rank1_dataset_new), rank1_dataset_new.sample()"
   ]
  },
  {
   "cell_type": "code",
   "execution_count": null,
   "metadata": {},
   "outputs": [],
   "source": [
    "t2 = table(train=vector(), test=rank1_dataset_new)\n",
    "t2.save(f\"dataset/dataset_only_rank1_with_last_delay_50_rank_5_15.db\")"
   ]
  },
  {
   "cell_type": "code",
   "execution_count": null,
   "metadata": {},
   "outputs": [],
   "source": [
    "items_list = vector.range(num_items) ** 3\n",
    "# rank3_dataset = vector()\n",
    "delay = int(mean_delay / delta_t)\n",
    "rank = int(mean_rank / delta_t)\n",
    "last_delay = int(mean_last_delay / delta_t) * 2\n",
    "    \n",
    "rank3_dataset = items_list.map(lambda items: (items, vector([delay, delay, delay, last_delay]), vector([rank, rank, rank]), 0))"
   ]
  },
  {
   "cell_type": "code",
   "execution_count": null,
   "metadata": {},
   "outputs": [],
   "source": [
    "len(rank3_dataset), rank3_dataset.sample()"
   ]
  },
  {
   "cell_type": "code",
   "execution_count": null,
   "metadata": {},
   "outputs": [],
   "source": [
    "t3 = table(train=vector(), test=rank3_dataset)\n",
    "t3.save(\"dataset/dataset_only_rank3_with_rank_10_delay_15_last_delay_100.db\")"
   ]
  },
  {
   "cell_type": "code",
   "execution_count": null,
   "metadata": {},
   "outputs": [],
   "source": [
    "items_list = vector.range(num_items) ** 1\n",
    "\n",
    "delay = int(mean_delay / delta_t)\n",
    "rank = int(mean_rank / delta_t)\n",
    "last_delay = int(mean_last_delay / delta_t) * 3\n",
    "\n",
    "rank4_dataset = items_list.map(lambda items: (items, vector([delay, last_delay]), vector([rank]), 0))"
   ]
  },
  {
   "cell_type": "code",
   "execution_count": null,
   "metadata": {},
   "outputs": [],
   "source": [
    "len(rank4_dataset), rank4_dataset.sample()"
   ]
  },
  {
   "cell_type": "code",
   "execution_count": null,
   "metadata": {},
   "outputs": [],
   "source": [
    "t4 = table(train=vector(), test=rank4_dataset)\n",
    "t4.save(\"dataset/dataset_only_rank1_with_rank_10_delay_15_last_delay_150.db\")"
   ]
  },
  {
   "cell_type": "code",
   "execution_count": null,
   "metadata": {},
   "outputs": [],
   "source": [
    "items_list = vector.range(num_items) ** 4\n",
    "# rank3_dataset = vector()\n",
    "delay = int(mean_delay / delta_t)\n",
    "rank = int(mean_rank / delta_t)\n",
    "last_delay = int(mean_last_delay / delta_t) * 2\n",
    "    \n",
    "length4_dataset = items_list.map(lambda items: (items, vector([delay, delay, delay, delay, last_delay]), vector([rank, rank, rank, rank]), 0))"
   ]
  },
  {
   "cell_type": "code",
   "execution_count": null,
   "metadata": {},
   "outputs": [],
   "source": [
    "len(length4_dataset), length4_dataset.sample()"
   ]
  },
  {
   "cell_type": "code",
   "execution_count": null,
   "metadata": {},
   "outputs": [],
   "source": [
    "t5 = table(train=vector(), test=length4_dataset)\n",
    "t5.save(\"dataset/dataset_only_rank4_with_rank_10_delay_15_last_delay_100.db\")"
   ]
  },
  {
   "cell_type": "code",
   "execution_count": null,
   "metadata": {},
   "outputs": [],
   "source": [
    "items_list = vector.range(num_items) ** 3\n",
    "# rank3_dataset = vector()\n",
    "delay = int(mean_delay / delta_t)\n",
    "rank = int(mean_rank / delta_t)\n",
    "last_delay = int(mean_last_delay / delta_t)\n",
    "    \n",
    "rank3_dataset = items_list.map(lambda items: (items, vector([delay, delay, delay, last_delay]), vector([rank, rank, rank]), 0))\n",
    "\n",
    "print(len(rank3_dataset), rank3_dataset.sample())\n",
    "\n",
    "t6 = table(train=vector(), test=rank3_dataset)\n",
    "t6.save(\"dataset/dataset_only_rank3_with_rank_10_delay_15_last_delay_50.db\")"
   ]
  },
  {
   "cell_type": "code",
   "execution_count": null,
   "metadata": {},
   "outputs": [],
   "source": [
    "hyper=table(datapath='dataset/dataset_item_2_train_length_3.db', learning_rate=0.001, l2_reg=1e-5, encoder_max_rank=2, max_epochs=3000, embedding='dataset/embedding_inputdim_2_embeddingdim_4096_round_without_normalize.db', residual_loss=1e-2, train_items_crop=2)"
   ]
  },
  {
   "cell_type": "code",
   "execution_count": null,
   "metadata": {},
   "outputs": [],
   "source": [
    "hyper"
   ]
  },
  {
   "cell_type": "code",
   "execution_count": null,
   "metadata": {},
   "outputs": [],
   "source": []
  }
 ],
 "metadata": {
  "kernelspec": {
   "display_name": "Python 3",
   "language": "python",
   "name": "python3"
  },
  "language_info": {
   "codemirror_mode": {
    "name": "ipython",
    "version": 3
   },
   "file_extension": ".py",
   "mimetype": "text/x-python",
   "name": "python",
   "nbconvert_exporter": "python",
   "pygments_lexer": "ipython3",
   "version": "3.8.3"
  }
 },
 "nbformat": 4,
 "nbformat_minor": 5
}
