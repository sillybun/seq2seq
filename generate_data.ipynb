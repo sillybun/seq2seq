{
 "cells": [
  {
   "cell_type": "code",
   "execution_count": 1,
   "metadata": {},
   "outputs": [],
   "source": [
    "import torch\n",
    "import torch.nn as nn\n",
    "from zytlib import vector\n",
    "import math\n",
    "from zytlib.classfunc import save_args\n",
    "from torch.nn.utils.rnn import pad_sequence\n",
    "from zytlib.wrapper import second_argument\n",
    "from zytlib.table import table\n",
    "import math\n",
    "from torchfunction.utils import seed_torch\n",
    "import random"
   ]
  },
  {
   "cell_type": "code",
   "execution_count": 2,
   "metadata": {},
   "outputs": [],
   "source": [
    "from dataset import Emulater, emulate, generate_in_train_label, dataset"
   ]
  },
  {
   "cell_type": "code",
   "execution_count": 30,
   "metadata": {},
   "outputs": [],
   "source": [
    "delta_t = 20\n",
    "mean_delay = 300\n",
    "mean_rank = 200\n",
    "mean_last_delay = 1000\n",
    "num_items = 6\n",
    "random_seed = 1024\n",
    "\n",
    "info = table(delta_t=delta_t, mean_delay=mean_delay, mean_rank=mean_rank, mean_last_delay=mean_last_delay, num_items=num_items, random_seed=random_seed)"
   ]
  },
  {
   "cell_type": "markdown",
   "metadata": {},
   "source": [
    "# generate training dataset"
   ]
  },
  {
   "cell_type": "code",
   "execution_count": 31,
   "metadata": {},
   "outputs": [],
   "source": [
    "seed_torch(random_seed)\n",
    "rank3_items_list = vector.range(num_items) ** 3\n",
    "rank2_items_list = vector.range(num_items) ** 2\n",
    "rank1_items_list = vector.range(num_items) ** 1\n"
   ]
  },
  {
   "cell_type": "code",
   "execution_count": 32,
   "metadata": {},
   "outputs": [
    {
     "data": {
      "text/plain": [
       "[(0,), (1,), (2,), (3,), (4,), (5,)]"
      ]
     },
     "execution_count": 32,
     "metadata": {},
     "output_type": "execute_result"
    }
   ],
   "source": [
    "rank1_items_list"
   ]
  },
  {
   "cell_type": "code",
   "execution_count": 33,
   "metadata": {
    "scrolled": true
   },
   "outputs": [
    {
     "data": {
      "text/plain": [
       "[(0, 0), (0, 1), (0, 2), (0, 3), (0, 4), (0, 5), (1, 0), (1, 1), (1, 2), (1, 3), (1, 4), (1, 5), (2, 0), (2, 1), (2, 2), (2, 3), (2, 4), (2, 5), (3, 0), (3, 1), (3, 2), (3, 3), (3, 4), (3, 5), (4, 0), (4, 1), (4, 2), (4, 3), (4, 4), (4, 5), (5, 0), (5, 1), (5, 2), (5, 3), (5, 4), (5, 5)]"
      ]
     },
     "execution_count": 33,
     "metadata": {},
     "output_type": "execute_result"
    }
   ],
   "source": [
    "rank2_items_list"
   ]
  },
  {
   "cell_type": "code",
   "execution_count": 34,
   "metadata": {},
   "outputs": [],
   "source": [
    "rank2_dataset = vector()\n",
    "for items in rank2_items_list:\n",
    "    rank = vector([math.ceil(mean_rank / delta_t)] * len(items))\n",
    "    delay = vector([math.ceil(mean_delay / delta_t)] * len(items)) + [math.ceil(mean_last_delay / delta_t)]\n",
    "    rank2_dataset.append((items, delay, rank))\n",
    "\n",
    "rank1_dataset = vector()\n",
    "for items in rank1_items_list:\n",
    "    rank = vector([math.ceil(mean_rank / delta_t)] * len(items))\n",
    "    delay = vector([math.ceil(mean_delay / delta_t)] * len(items)) + [math.ceil(mean_last_delay / delta_t)]\n",
    "    rank1_dataset.append((items, delay, rank))"
   ]
  },
  {
   "cell_type": "code",
   "execution_count": 35,
   "metadata": {},
   "outputs": [],
   "source": [
    "final_rank2_dataset_train = vector()\n",
    "final_rank2_dataset_test = dict()\n",
    "final_rank2_dataset_test[\"rank1\"] = vector()\n",
    "final_rank2_dataset_test[\"rank2\"] = vector()\n",
    "\n",
    "for items, delay, rank in rank2_dataset:\n",
    "    for _ in range(70 * 3):\n",
    "        final_rank2_dataset_train.append((items, delay.map(lambda x: int(x * (random.random() + 0.5))), rank.map(lambda x: int(x * (random.random() + 0.5)))))\n",
    "    for _ in range(30 * 3):\n",
    "        final_rank2_dataset_test[\"rank{}\".format(len(items))].append((items, delay.map(lambda x: int(x * (random.random() + 0.5))), rank.map(lambda x: int(x * (random.random() + 0.5))), 1))     \n",
    "\n",
    "for items, delay, rank in rank1_dataset:\n",
    "    for _ in range(30 * 3):\n",
    "        final_rank2_dataset_test[\"rank{}\".format(len(items))].append((items, delay.map(lambda x: int(x * (random.random() + 0.5))), rank.map(lambda x: int(x * (random.random() + 0.5))), 1))     \n",
    " \n",
    "table(info=info, train=final_rank2_dataset_train, test=final_rank2_dataset_test).save(f\"dataset/dataset_item_{num_items}_train_rank2.db\")"
   ]
  },
  {
   "cell_type": "code",
   "execution_count": 36,
   "metadata": {},
   "outputs": [
    {
     "data": {
      "text/plain": [
       "[((4, 4), [19, 12, 62], [6, 11]), ((0, 4), [14, 18, 59], [13, 14]), ((5, 2), [10, 12, 62], [13, 13]), ((2, 0), [19, 17, 49], [5, 13]), ((2, 0), [20, 10, 67], [8, 14]), ((0, 2), [14, 19, 44], [11, 6]), ((3, 5), [12, 8, 30], [10, 8]), ((5, 0), [20, 14, 36], [8, 14]), ((5, 0), [10, 14, 25], [7, 8]), ((2, 0), [16, 17, 25], [11, 11])], with index mapping"
      ]
     },
     "execution_count": 36,
     "metadata": {},
     "output_type": "execute_result"
    }
   ],
   "source": [
    "final_rank2_dataset_train.length\n",
    "final_rank2_dataset_train.sample(10)"
   ]
  },
  {
   "cell_type": "code",
   "execution_count": 37,
   "metadata": {},
   "outputs": [],
   "source": [
    "seed_torch(random_seed)\n",
    "rank12_dataset = vector()\n",
    "for items in rank1_items_list:\n",
    "    for _ in range(6):\n",
    "        rank = vector([math.ceil(mean_rank / delta_t)] * len(items))\n",
    "        delay = vector([math.ceil(mean_delay / delta_t)] * len(items)) + [math.ceil(mean_last_delay / delta_t)]\n",
    "        rank12_dataset.append((items, delay, rank))\n",
    "    \n",
    "for items in rank2_items_list:\n",
    "    rank = vector([math.ceil(mean_rank / delta_t)] * len(items))\n",
    "    delay = vector([math.ceil(mean_delay / delta_t)] * len(items)) + [math.ceil(mean_last_delay / delta_t)]\n",
    "    rank12_dataset.append((items, delay, rank))"
   ]
  },
  {
   "cell_type": "code",
   "execution_count": 38,
   "metadata": {},
   "outputs": [
    {
     "data": {
      "text/plain": [
       "[0.0, 0.9834988702079559, 1.7788556266310196, 3.988229664995395, 5.481733665459814, 3.002175481808213, 6.077275933290929, 10.196949464498463, 9.77455638689112, 10.943720656033125]"
      ]
     },
     "execution_count": 38,
     "metadata": {},
     "output_type": "execute_result"
    }
   ],
   "source": [
    "vector.range(10).map(lambda x: x * (random.random() + 0.5))"
   ]
  },
  {
   "cell_type": "code",
   "execution_count": 39,
   "metadata": {},
   "outputs": [],
   "source": [
    "final_rank12_dataset_train = vector()\n",
    "final_rank12_dataset_test = dict()\n",
    "final_rank12_dataset_test[\"rank1\"] = vector()\n",
    "final_rank12_dataset_test[\"rank2\"] = vector()\n",
    "\n",
    "for items, delay, rank in rank12_dataset:\n",
    "    for _ in range(70 * 3):\n",
    "        final_rank12_dataset_train.append((items, delay.map(lambda x: int(x * (random.random() + 0.5))), rank.map(lambda x: int(x * (random.random() + 0.5)))))\n",
    "    for _ in range(30 * 3):\n",
    "        final_rank12_dataset_test[\"rank{}\".format(len(items))].append((items, delay.map(lambda x: int(x * (random.random() + 0.5))), rank.map(lambda x: int(x * (random.random() + 0.5))), 1))       \n",
    "table(info=info, train=final_rank12_dataset_train, test=final_rank12_dataset_test).save(f\"dataset/dataset_item_{num_items}_rank12.db\")"
   ]
  },
  {
   "cell_type": "code",
   "execution_count": 40,
   "metadata": {},
   "outputs": [
    {
     "data": {
      "text/plain": [
       "15120"
      ]
     },
     "execution_count": 40,
     "metadata": {},
     "output_type": "execute_result"
    }
   ],
   "source": [
    "len(final_rank12_dataset_train)"
   ]
  },
  {
   "cell_type": "markdown",
   "metadata": {},
   "source": [
    "# generate testing dataset"
   ]
  },
  {
   "cell_type": "code",
   "execution_count": 18,
   "metadata": {},
   "outputs": [],
   "source": [
    "items_list = vector.range(num_items) ** 2\n",
    "rank2_dataset = vector()\n",
    "for items in items_list:\n",
    "    rank = vector([10]) * 2\n",
    "    delay = vector([15]) * 2\n",
    "    for d in range(25, 101):\n",
    "        rank2_dataset.append((items, delay + [d], rank, d))"
   ]
  },
  {
   "cell_type": "code",
   "execution_count": 19,
   "metadata": {},
   "outputs": [
    {
     "name": "stdout",
     "output_type": "stream",
     "text": [
      "((0, 5), [15, 15, 49], [10, 10], 49)\n",
      "((1, 3), [15, 15, 33], [10, 10], 33)\n",
      "((2, 1), [15, 15, 45], [10, 10], 45)\n",
      "((0, 5), [15, 15, 44], [10, 10], 44)\n",
      "((1, 1), [15, 15, 70], [10, 10], 70)\n"
     ]
    }
   ],
   "source": [
    "rank2_dataset.sample(5).apply(print)"
   ]
  },
  {
   "cell_type": "code",
   "execution_count": 20,
   "metadata": {},
   "outputs": [
    {
     "data": {
      "text/plain": [
       "2736"
      ]
     },
     "execution_count": 20,
     "metadata": {},
     "output_type": "execute_result"
    }
   ],
   "source": [
    "rank2_dataset.length"
   ]
  },
  {
   "cell_type": "code",
   "execution_count": 21,
   "metadata": {},
   "outputs": [],
   "source": [
    "t = table(train=vector(), test=rank2_dataset)\n",
    "t.save(f\"dataset/dataset_only_rank2_with_lastdelay_25_100.db\")"
   ]
  },
  {
   "cell_type": "code",
   "execution_count": 22,
   "metadata": {},
   "outputs": [],
   "source": [
    "items_list = vector.range(num_items) ** 2\n",
    "rank2_dataset = vector()\n",
    "for items in items_list:\n",
    "    rank = vector([10]) * 2\n",
    "    delay = vector([15]) * 2\n",
    "    d = 50\n",
    "    rank2_dataset.append((items, delay + [d], rank, d))"
   ]
  },
  {
   "cell_type": "code",
   "execution_count": 16,
   "metadata": {},
   "outputs": [
    {
     "name": "stdout",
     "output_type": "stream",
     "text": [
      "((2, 1), [15, 15, 50], [10, 10], 50)\n",
      "((5, 0), [15, 15, 50], [10, 10], 50)\n",
      "((2, 0), [15, 15, 50], [10, 10], 50)\n",
      "((0, 5), [15, 15, 50], [10, 10], 50)\n",
      "((1, 0), [15, 15, 50], [10, 10], 50)\n"
     ]
    }
   ],
   "source": [
    "rank2_dataset.sample(5).apply(print)"
   ]
  },
  {
   "cell_type": "code",
   "execution_count": 23,
   "metadata": {},
   "outputs": [
    {
     "data": {
      "text/plain": [
       "36"
      ]
     },
     "execution_count": 23,
     "metadata": {},
     "output_type": "execute_result"
    }
   ],
   "source": [
    "rank2_dataset.length"
   ]
  },
  {
   "cell_type": "code",
   "execution_count": 24,
   "metadata": {},
   "outputs": [],
   "source": [
    "t.save(f\"dataset/dataset_only_rank2_with_lastdelay_50.db\")"
   ]
  },
  {
   "cell_type": "code",
   "execution_count": 5,
   "metadata": {},
   "outputs": [],
   "source": [
    "items_list = vector.range(num_items) ** 1\n",
    "rank1_dataset = vector()\n",
    "for items in items_list:\n",
    "    rank = vector([10])\n",
    "    delay = vector([15])\n",
    "    for d in range(25, 101):\n",
    "        rank1_dataset.append((items, delay + [d], rank, d))"
   ]
  },
  {
   "cell_type": "code",
   "execution_count": 6,
   "metadata": {},
   "outputs": [
    {
     "data": {
      "text/plain": [
       "(456, ((5,), [15, 88], [10], 88))"
      ]
     },
     "execution_count": 6,
     "metadata": {},
     "output_type": "execute_result"
    }
   ],
   "source": [
    "len(rank1_dataset), rank1_dataset.sample()"
   ]
  },
  {
   "cell_type": "code",
   "execution_count": 7,
   "metadata": {},
   "outputs": [],
   "source": [
    "t1 = table(train=vector(), test=rank1_dataset)\n",
    "t1.save(f\"dataset/dataset_only_rank1_with_lastdelay_25_100.db\")"
   ]
  },
  {
   "cell_type": "code",
   "execution_count": 8,
   "metadata": {},
   "outputs": [],
   "source": [
    "items_list = vector.range(num_items) ** 1\n",
    "rank1_dataset_new= vector()\n",
    "for items in items_list:\n",
    "    rank = vector([10])\n",
    "    delay = vector([15])\n",
    "    for r in range(5, 16):\n",
    "        rank1_dataset_new.append((items, vector([15, 50]), vector([r]), r))"
   ]
  },
  {
   "cell_type": "code",
   "execution_count": 9,
   "metadata": {},
   "outputs": [
    {
     "data": {
      "text/plain": [
       "(66, ((1,), [15, 50], [11], 11))"
      ]
     },
     "execution_count": 9,
     "metadata": {},
     "output_type": "execute_result"
    }
   ],
   "source": [
    "len(rank1_dataset_new), rank1_dataset_new.sample()"
   ]
  },
  {
   "cell_type": "code",
   "execution_count": 10,
   "metadata": {},
   "outputs": [],
   "source": [
    "t2 = table(train=vector(), test=rank1_dataset_new)\n",
    "t2.save(f\"dataset/dataset_only_rank1_with_last_delay_50_rank_5_15.db\")"
   ]
  },
  {
   "cell_type": "code",
   "execution_count": 26,
   "metadata": {},
   "outputs": [],
   "source": [
    "items_list = vector.range(num_items) ** 3\n",
    "# rank3_dataset = vector()\n",
    "delay = int(mean_delay / delta_t)\n",
    "rank = int(mean_rank / delta_t)\n",
    "last_delay = int(mean_last_delay / delta_t) * 2\n",
    "    \n",
    "rank3_dataset = items_list.map(lambda items: (items, vector([delay, delay, delay, last_delay]), vector([rank, rank, rank]), 0))"
   ]
  },
  {
   "cell_type": "code",
   "execution_count": 27,
   "metadata": {},
   "outputs": [
    {
     "data": {
      "text/plain": [
       "(216, ((2, 2, 5), [15, 15, 15, 100], [10, 10, 10], 0))"
      ]
     },
     "execution_count": 27,
     "metadata": {},
     "output_type": "execute_result"
    }
   ],
   "source": [
    "len(rank3_dataset), rank3_dataset.sample()"
   ]
  },
  {
   "cell_type": "code",
   "execution_count": 29,
   "metadata": {},
   "outputs": [],
   "source": [
    "t3 = table(train=vector(), test=rank3_dataset)\n",
    "t3.save(\"dataset/dataset_only_rank3_with_rank_10_delay_15_last_delay_100.db\")"
   ]
  },
  {
   "cell_type": "code",
   "execution_count": 30,
   "metadata": {},
   "outputs": [],
   "source": [
    "items_list = vector.range(num_items) ** 1\n",
    "\n",
    "delay = int(mean_delay / delta_t)\n",
    "rank = int(mean_rank / delta_t)\n",
    "last_delay = int(mean_last_delay / delta_t) * 3\n",
    "\n",
    "rank4_dataset = items_list.map(lambda items: (items, vector([delay, last_delay]), vector([rank]), 0))"
   ]
  },
  {
   "cell_type": "code",
   "execution_count": 31,
   "metadata": {},
   "outputs": [
    {
     "data": {
      "text/plain": [
       "(6, ((1,), [15, 150], [10], 0))"
      ]
     },
     "execution_count": 31,
     "metadata": {},
     "output_type": "execute_result"
    }
   ],
   "source": [
    "len(rank4_dataset), rank4_dataset.sample()"
   ]
  },
  {
   "cell_type": "code",
   "execution_count": 32,
   "metadata": {},
   "outputs": [],
   "source": [
    "t4 = table(train=vector(), test=rank4_dataset)\n",
    "t4.save(\"dataset/dataset_only_rank1_with_rank_10_delay_15_last_delay_150.db\")"
   ]
  },
  {
   "cell_type": "code",
   "execution_count": 33,
   "metadata": {},
   "outputs": [],
   "source": [
    "items_list = vector.range(num_items) ** 4\n",
    "# rank3_dataset = vector()\n",
    "delay = int(mean_delay / delta_t)\n",
    "rank = int(mean_rank / delta_t)\n",
    "last_delay = int(mean_last_delay / delta_t) * 2\n",
    "    \n",
    "length4_dataset = items_list.map(lambda items: (items, vector([delay, delay, delay, delay, last_delay]), vector([rank, rank, rank, rank]), 0))"
   ]
  },
  {
   "cell_type": "code",
   "execution_count": 34,
   "metadata": {},
   "outputs": [
    {
     "data": {
      "text/plain": [
       "(1296, ((0, 5, 4, 4), [15, 15, 15, 15, 100], [10, 10, 10, 10], 0))"
      ]
     },
     "execution_count": 34,
     "metadata": {},
     "output_type": "execute_result"
    }
   ],
   "source": [
    "len(length4_dataset), length4_dataset.sample()"
   ]
  },
  {
   "cell_type": "code",
   "execution_count": 35,
   "metadata": {},
   "outputs": [],
   "source": [
    "t5 = table(train=vector(), test=length4_dataset)\n",
    "t5.save(\"dataset/dataset_only_rank4_with_rank_10_delay_15_last_delay_100.db\")"
   ]
  },
  {
   "cell_type": "code",
   "execution_count": 5,
   "metadata": {},
   "outputs": [
    {
     "name": "stdout",
     "output_type": "stream",
     "text": [
      "216 ((5, 1, 1), [15, 15, 15, 50], [10, 10, 10], 0)\n"
     ]
    }
   ],
   "source": [
    "items_list = vector.range(num_items) ** 3\n",
    "# rank3_dataset = vector()\n",
    "delay = int(mean_delay / delta_t)\n",
    "rank = int(mean_rank / delta_t)\n",
    "last_delay = int(mean_last_delay / delta_t)\n",
    "    \n",
    "rank3_dataset = items_list.map(lambda items: (items, vector([delay, delay, delay, last_delay]), vector([rank, rank, rank]), 0))\n",
    "\n",
    "print(len(rank3_dataset), rank3_dataset.sample())\n",
    "\n",
    "t6 = table(train=vector(), test=rank3_dataset)\n",
    "t6.save(\"dataset/dataset_only_rank3_with_rank_10_delay_15_last_delay_50.db\")"
   ]
  },
  {
   "cell_type": "code",
   "execution_count": null,
   "metadata": {},
   "outputs": [],
   "source": []
  }
 ],
 "metadata": {
  "kernelspec": {
   "display_name": "Python 3",
   "language": "python",
   "name": "python3"
  },
  "language_info": {
   "codemirror_mode": {
    "name": "ipython",
    "version": 3
   },
   "file_extension": ".py",
   "mimetype": "text/x-python",
   "name": "python",
   "nbconvert_exporter": "python",
   "pygments_lexer": "ipython3",
   "version": "3.8.3"
  }
 },
 "nbformat": 4,
 "nbformat_minor": 5
}
