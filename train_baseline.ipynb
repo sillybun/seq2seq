{
 "cells": [
  {
   "cell_type": "code",
   "execution_count": 1,
   "id": "06bc5b7d",
   "metadata": {},
   "outputs": [],
   "source": [
    "from data\n",
    "datapath = \"dataset/dataset_rank3_num_items_6_overlap_1_repeat_100.db\"\n"
   ]
  },
  {
   "cell_type": "code",
   "execution_count": null,
   "id": "34e99f20",
   "metadata": {},
   "outputs": [],
   "source": []
  }
 ],
 "metadata": {
  "kernelspec": {
   "display_name": "Python 3",
   "language": "python",
   "name": "python3"
  },
  "language_info": {
   "codemirror_mode": {
    "name": "ipython",
    "version": 3
   },
   "file_extension": ".py",
   "mimetype": "text/x-python",
   "name": "python",
   "nbconvert_exporter": "python",
   "pygments_lexer": "ipython3",
   "version": "3.8.8"
  }
 },
 "nbformat": 4,
 "nbformat_minor": 5
}
